{
 "cells": [
  {
   "cell_type": "markdown",
   "metadata": {},
   "source": [
    "# Homework 1 - Docker, Terraform and SQL\n",
    "\n",
    "- Link for submitting: [github](https://github.com/DataTalksClub/data-engineering-zoomcamp/blob/main/cohorts/2025/02-workflow-orchestration/homework.md)\n",
    "- Datasets (wget):\n",
    "  - [Green](https://github.com/DataTalksClub/nyc-tlc-data/releases/tag/green/download)\n",
    "  - [Yellow](https://github.com/DataTalksClub/nyc-tlc-data/releases/tag/yellow/download)\n",
    "  "
   ]
  },
  {
   "cell_type": "markdown",
   "metadata": {},
   "source": [
    "---"
   ]
  },
  {
   "cell_type": "markdown",
   "metadata": {},
   "source": [
    "## Answering SQL questions\n",
    "- ETL was performed in BigQuery using Kestra\n",
    "- Files.sql (queries) are stored in [sql](./sql/homework_2/) folder"
   ]
  },
  {
   "cell_type": "markdown",
   "metadata": {},
   "source": [
    "### Question 3\n",
    "\n",
    "How many rows are there for the Yellow Taxi data for all CSV files in the year 2020?\n",
    "\n",
    "- 13,537.299  \n",
    "- **24,648,499** * CORRECT ANSWER  \n",
    "- 18,324,219  \n",
    "- 29,430,127  "
   ]
  },
  {
   "cell_type": "markdown",
   "metadata": {},
   "source": [
    "### Question 4\n",
    "\n",
    "How many rows are there for the Green Taxi data for all CSV files in the year 2020?\n",
    "- 5,327,301\n",
    "- 936,199\n",
    "- **1,734,051** * CORRECT ANSWER\n",
    "- 1,342,034"
   ]
  },
  {
   "cell_type": "markdown",
   "metadata": {},
   "source": [
    "### Question 5\n",
    "\n",
    "How many rows are there for the Yellow Taxi data for the March 2021 CSV file?\n",
    "- 1,428,092\n",
    "- 706,911\n",
    "- **1,925,152** * CORRECT ANSWER\n",
    "- 2,561,031\n"
   ]
  },
  {
   "cell_type": "markdown",
   "metadata": {},
   "source": [
    "### Question 6\n",
    "\n",
    "How would you configure the timezone to New York in a Schedule trigger?\n",
    "- Add a timezone property set to EST in the Schedule trigger configuration\n",
    "- Add a timezone property set to America/New_York in the Schedule trigger configuration\n",
    "- **Add a timezone property set to UTC-5 in the Schedule trigger configuration** *CORRECT ANSWER\n",
    "- Add a location property set to New_York in the Schedule trigger configuration"
   ]
  }
 ],
 "metadata": {
  "kernelspec": {
   "display_name": ".venv",
   "language": "python",
   "name": "python3"
  },
  "language_info": {
   "codemirror_mode": {
    "name": "ipython",
    "version": 3
   },
   "file_extension": ".py",
   "mimetype": "text/x-python",
   "name": "python",
   "nbconvert_exporter": "python",
   "pygments_lexer": "ipython3",
   "version": "3.10.15"
  }
 },
 "nbformat": 4,
 "nbformat_minor": 2
}
